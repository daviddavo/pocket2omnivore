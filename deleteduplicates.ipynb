{
 "cells": [
  {
   "cell_type": "markdown",
   "id": "0ce62ce0-6956-4f7a-a00c-5212f75afec0",
   "metadata": {},
   "source": [
    "This script aims to delete duplicates created by running [pocket2omnivore.ipynb](./pocket2omnivore.ipynb) repeatedly by error"
   ]
  },
  {
   "cell_type": "code",
   "execution_count": null,
   "id": "b3d12996-2163-49c1-b110-e10e1faa360b",
   "metadata": {
    "execution": {
     "iopub.execute_input": "2023-06-17T17:47:07.566689Z",
     "iopub.status.busy": "2023-06-17T17:47:07.566386Z",
     "iopub.status.idle": "2023-06-17T17:47:07.898498Z",
     "shell.execute_reply": "2023-06-17T17:47:07.897927Z",
     "shell.execute_reply.started": "2023-06-17T17:47:07.566659Z"
    }
   },
   "outputs": [],
   "source": [
    "from IPython.display import display\n",
    "import datetime as dt\n",
    "from pathlib import Path\n",
    "import logging\n",
    "import os\n",
    "import requests\n",
    "import pandas as pd\n",
    "import backoff\n",
    "\n",
    "from urllib.parse import urlparse, parse_qs\n",
    "\n",
    "from gql import gql, Client\n",
    "from gql.transport.requests import RequestsHTTPTransport"
   ]
  },
  {
   "cell_type": "code",
   "execution_count": null,
   "id": "95248147-dd8e-4b79-9629-ee83079e2791",
   "metadata": {
    "execution": {
     "iopub.execute_input": "2023-06-17T17:47:07.900059Z",
     "iopub.status.busy": "2023-06-17T17:47:07.899660Z",
     "iopub.status.idle": "2023-06-17T17:47:07.903266Z",
     "shell.execute_reply": "2023-06-17T17:47:07.902692Z",
     "shell.execute_reply.started": "2023-06-17T17:47:07.900042Z"
    }
   },
   "outputs": [],
   "source": [
    "OMNIVORE_API_URL = \"https://api-prod.omnivore.app/api/graphql\"\n",
    "OMNIVORE_API_KEY = os.environ.get('OMNIVORE_API_KEY')\n",
    "SCHEMA_URL = \"https://raw.githubusercontent.com/omnivore-app/omnivore/fc42800a9e50f70fa65c4a8f0f59f1d64328fb24/packages/api/src/generated/schema.graphql\"\n",
    "ARTICLES_BATCH = 1000\n",
    "AMBIGUOUS_TAG = '_p2o_ambiguous'\n",
    "TODELETE_TAG = '_p2o_to-delete'\n",
    "DUPLICATE_KEY = 'title' # more \"restrictive\" than using title\n",
    "IGNORE_WORDCOUNT = True # Don't raise a warning if the wordcount between articles is different"
   ]
  },
  {
   "cell_type": "code",
   "execution_count": null,
   "id": "3eab8d20-6028-4a26-a073-9b2428486eac",
   "metadata": {
    "execution": {
     "iopub.execute_input": "2023-06-17T17:47:07.904039Z",
     "iopub.status.busy": "2023-06-17T17:47:07.903892Z",
     "iopub.status.idle": "2023-06-17T17:47:08.000233Z",
     "shell.execute_reply": "2023-06-17T17:47:07.999621Z",
     "shell.execute_reply.started": "2023-06-17T17:47:07.904025Z"
    }
   },
   "outputs": [],
   "source": [
    "with requests.get(SCHEMA_URL) as r:\n",
    "    r.raise_for_status()\n",
    "    schema = r.text\n",
    "\n",
    "    assert schema is not None"
   ]
  },
  {
   "cell_type": "code",
   "execution_count": null,
   "id": "9e28b814-cbe6-490a-bac7-99143b0a3a03",
   "metadata": {
    "execution": {
     "iopub.execute_input": "2023-06-17T17:47:08.001229Z",
     "iopub.status.busy": "2023-06-17T17:47:08.001075Z",
     "iopub.status.idle": "2023-06-17T17:47:08.004436Z",
     "shell.execute_reply": "2023-06-17T17:47:08.003771Z",
     "shell.execute_reply.started": "2023-06-17T17:47:08.001215Z"
    }
   },
   "outputs": [],
   "source": [
    "def create_client():\n",
    "    transport = RequestsHTTPTransport(\n",
    "       url=OMNIVORE_API_URL,\n",
    "        headers = {\n",
    "            'authorization': OMNIVORE_API_KEY,\n",
    "        }\n",
    "    )\n",
    "    return Client(transport=transport, schema=schema, fetch_schema_from_transport=False, execute_timeout=None)"
   ]
  },
  {
   "cell_type": "code",
   "execution_count": null,
   "id": "5fa78939-acab-453d-b5dd-3462cb4da8e8",
   "metadata": {
    "execution": {
     "iopub.execute_input": "2023-06-17T17:47:08.005381Z",
     "iopub.status.busy": "2023-06-17T17:47:08.005213Z",
     "iopub.status.idle": "2023-06-17T17:47:08.405612Z",
     "shell.execute_reply": "2023-06-17T17:47:08.404206Z",
     "shell.execute_reply.started": "2023-06-17T17:47:08.005365Z"
    }
   },
   "outputs": [],
   "source": [
    "# Doing a \"test query\" to check if everything is correct\n",
    "\n",
    "with create_client() as session: \n",
    "    r = session.execute(gql(\"\"\"\n",
    "    query Viewer {\n",
    "        me {\n",
    "            id\n",
    "            name\n",
    "            profile {\n",
    "                username\n",
    "            }\n",
    "        }\n",
    "    }\n",
    "    \"\"\"))\n",
    "\n",
    "    result = r\n",
    "    USERNAME = result['me']['profile']['username']\n",
    "\n",
    "    print(f\"Hello {result['me']['name']} ({USERNAME})!\")"
   ]
  },
  {
   "cell_type": "code",
   "execution_count": null,
   "id": "65b1528d-f527-4d45-80be-33f8754e056b",
   "metadata": {
    "execution": {
     "iopub.execute_input": "2023-06-17T17:48:38.475695Z",
     "iopub.status.busy": "2023-06-17T17:48:38.475004Z",
     "iopub.status.idle": "2023-06-17T17:48:42.397486Z",
     "shell.execute_reply": "2023-06-17T17:48:42.396963Z",
     "shell.execute_reply.started": "2023-06-17T17:48:38.475666Z"
    }
   },
   "outputs": [],
   "source": [
    "queryArticles = \"\"\"\n",
    "query Articles ($batch: Int, $cursor: String!) {\n",
    "    articles(after: $cursor, first: $batch, query: \"in:all\", sharedOnly: false) {\n",
    "    ... on ArticlesSuccess {\n",
    "        pageInfo {\n",
    "            hasNextPage\n",
    "            totalCount\n",
    "            endCursor\n",
    "        }\n",
    "        edges {\n",
    "            cursor\n",
    "            node {\n",
    "                id\n",
    "                url\n",
    "                createdAt\n",
    "                publishedAt\n",
    "                savedAt\n",
    "                isArchived\n",
    "                slug\n",
    "                originalArticleUrl\n",
    "                readingProgressPercent\n",
    "                wordsCount\n",
    "                title\n",
    "                hash\n",
    "            }\n",
    "        }\n",
    "    }\n",
    "    ... on ArticlesError {\n",
    "        errorCodes\n",
    "    }\n",
    "    }\n",
    "}\n",
    "\"\"\"\n",
    "\n",
    "def getAllArticles():\n",
    "    hasNextPage = True\n",
    "    cursor = \"\"\n",
    "    total = None\n",
    "\n",
    "    articles = []\n",
    "\n",
    "    with create_client() as c:\n",
    "        while hasNextPage:\n",
    "            r = c.execute(gql(queryArticles), {'cursor': cursor, 'batch': ARTICLES_BATCH})\n",
    "            r = r['articles']\n",
    "\n",
    "            if 'errorCodes' in r:\n",
    "                raise ValueError(r['errorCodes'])\n",
    "\n",
    "            for e in r['edges']:\n",
    "                articles.append(e['node'])\n",
    "\n",
    "            total = r['pageInfo']['totalCount']\n",
    "            hasNextPage = r['pageInfo']['hasNextPage']\n",
    "            cursor = r['pageInfo']['endCursor']\n",
    "\n",
    "            print(f\"Current cursor: {cursor}, total: {total}\")\n",
    "\n",
    "    return articles\n",
    "\n",
    "def clean_url(url):\n",
    "    p = urlparse(url)\n",
    "    return p.netloc + p.path.rstrip('/').lstrip('www.').lstrip('m.')\n",
    "\n",
    "articles = pd.DataFrame.from_records(getAllArticles()).set_index('id')\n",
    "articles['cleanUrl'] = articles['originalArticleUrl'].apply(clean_url)\n",
    "articles"
   ]
  },
  {
   "cell_type": "code",
   "execution_count": null,
   "id": "ea38e6d9-a374-43b6-902f-c96aaae15cb5",
   "metadata": {
    "execution": {
     "iopub.execute_input": "2023-06-17T17:47:11.779136Z",
     "iopub.status.busy": "2023-06-17T17:47:11.778948Z",
     "iopub.status.idle": "2023-06-17T17:47:11.796327Z",
     "shell.execute_reply": "2023-06-17T17:47:11.795566Z",
     "shell.execute_reply.started": "2023-06-17T17:47:11.779122Z"
    }
   },
   "outputs": [],
   "source": [
    "IGNORE_URLS = ['omnivore.app/no_url', 'www.google.com/url', 'www.google.com/search']\n",
    "# duplicated = articles.duplicated('hash', keep=False)\n",
    "duplicated = articles.duplicated(DUPLICATE_KEY, keep=False) & ~articles['cleanUrl'].isin(IGNORE_URLS)\n",
    "first_duplicates = articles.duplicated(DUPLICATE_KEY, keep='first') & ~articles['cleanUrl'].isin(IGNORE_URLS)\n",
    "\n",
    "print(f\"There are {duplicated.sum()} duplicates\")\n",
    "articles[duplicated].sort_values('title')"
   ]
  },
  {
   "cell_type": "code",
   "execution_count": null,
   "id": "c2557333-2672-4430-b398-5a465e9937e6",
   "metadata": {
    "execution": {
     "iopub.execute_input": "2023-06-17T17:47:11.797824Z",
     "iopub.status.busy": "2023-06-17T17:47:11.797549Z",
     "iopub.status.idle": "2023-06-17T17:47:11.821200Z",
     "shell.execute_reply": "2023-06-17T17:47:11.820501Z",
     "shell.execute_reply.started": "2023-06-17T17:47:11.797798Z"
    }
   },
   "outputs": [],
   "source": [
    "def should_keep(a1, a2, ignore_wordcount=False):\n",
    "    \"\"\" Returns the item to be deleted or None if none of them should be deleted\n",
    "    For example, if they are not \"comparable\"\n",
    "    \"\"\"\n",
    "\n",
    "    # Policy https://github.com/daviddavo/pocket2omnivore/issues/4\n",
    "    if a1.name == a2.name:\n",
    "        raise ValueError(\"Is the same article!\")\n",
    "\n",
    "    if a1[DUPLICATE_KEY] != a2[DUPLICATE_KEY]:\n",
    "        raise ValueError(\"Articles have different DUPLICATE_KEY\")\n",
    "\n",
    "    if not ignore_wordcount and a1['wordsCount'] != a2['wordsCount']:\n",
    "        print(f\"Warning: The articles {a1.name} and {a2.name} have different word counts\")\n",
    "        return None\n",
    "\n",
    "    # Keep archived criteria\n",
    "    if a1['isArchived'] and not a2['isArchived']:\n",
    "        return a1\n",
    "    elif a2['isArchived'] and not a1['isArchived']:\n",
    "        return a2\n",
    "\n",
    "    # Keep most read criteria\n",
    "    if (a1['readingProgressPercent'] > 1) and not (a2['readingProgressPercent'] > 1):\n",
    "        return a1\n",
    "    elif (a2['readingProgressPercent'] > 1) and not (a1['readingProgressPercent'] > 1):\n",
    "        return a2\n",
    "\n",
    "    # Finally, keep oldest criteria\n",
    "    old_date = min(a1['savedAt'], a2['savedAt'])\n",
    "    if a1['savedAt'] == old_date:\n",
    "        return a1\n",
    "    else:\n",
    "        return a2\n",
    "\n",
    "# should_keep(articles.loc[\"d51e0273-cc1a-4d22-8c8f-3df76655a875\"], articles.loc[\"5edf1133-d465-4177-8489-642b52f4c039\"])"
   ]
  },
  {
   "cell_type": "markdown",
   "id": "4aa4123a-1b70-4a42-975f-2ba6823022ff",
   "metadata": {},
   "source": [
    "Now, for each group of duplicates, we should make a kind of tournament where only one remains."
   ]
  },
  {
   "cell_type": "code",
   "execution_count": null,
   "id": "ddc3247f-fef1-4037-8b0e-9dd4fe5a85c3",
   "metadata": {
    "execution": {
     "iopub.execute_input": "2023-06-17T17:47:11.824314Z",
     "iopub.status.busy": "2023-06-17T17:47:11.823494Z",
     "iopub.status.idle": "2023-06-17T17:47:11.865002Z",
     "shell.execute_reply": "2023-06-17T17:47:11.864098Z",
     "shell.execute_reply.started": "2023-06-17T17:47:11.824273Z"
    }
   },
   "outputs": [],
   "source": [
    "keep = {}\n",
    "delete = {}\n",
    "\n",
    "ambiguous = []\n",
    "\n",
    "for url, g in articles[duplicated].groupby(DUPLICATE_KEY):\n",
    "    assert len(g) >= 2\n",
    "    keep[url] = g.iloc[0]\n",
    "    delete[url] = []\n",
    "\n",
    "    for id, a in g.iloc[1:].iterrows():\n",
    "        ret = should_keep(keep[url], a, ignore_wordcount=IGNORE_WORDCOUNT)\n",
    "\n",
    "        if ret is None:\n",
    "            ambiguous.append(url)\n",
    "            break\n",
    "        # delete new\n",
    "        elif ret.name == keep[url].name:\n",
    "            delete[url].append(a)\n",
    "        # keep new\n",
    "        else:\n",
    "            delete[url].append(keep[url])\n",
    "            keep[url] = a\n",
    "\n",
    "print(\"The following articles should be checked and deleted manually\")\n",
    "articles[articles[DUPLICATE_KEY].isin(ambiguous)]"
   ]
  },
  {
   "cell_type": "markdown",
   "id": "48767bae-bdb6-4b11-8d6c-4d905ebf2a7d",
   "metadata": {},
   "source": [
    "# Tag articles to delete\n",
    "\n",
    "## Create tags and needed functions"
   ]
  },
  {
   "cell_type": "code",
   "execution_count": null,
   "id": "e4d87e76-106b-4e0b-b404-86c5c91f984d",
   "metadata": {
    "execution": {
     "iopub.execute_input": "2023-06-17T17:47:11.866806Z",
     "iopub.status.busy": "2023-06-17T17:47:11.866064Z",
     "iopub.status.idle": "2023-06-17T17:47:11.875164Z",
     "shell.execute_reply": "2023-06-17T17:47:11.872872Z",
     "shell.execute_reply.started": "2023-06-17T17:47:11.866771Z"
    }
   },
   "outputs": [],
   "source": [
    "def getExistingTags():\n",
    "  with create_client() as session: \n",
    "    r = session.execute(gql(\"\"\"\n",
    "    query Labels {\n",
    "        labels {\n",
    "              ...on LabelsSuccess { \n",
    "                  labels { name, id }\n",
    "              }\n",
    "          }\n",
    "    }\n",
    "    \"\"\"))\n",
    "\n",
    "    result = r\n",
    "    return result['labels']['labels']\n",
    "\n",
    "def saveTags(tagName): \n",
    "    with create_client() as client: \n",
    "      mutation = f\"\"\"\n",
    "      mutation {{\n",
    "        createLabel(input: {{color: \"#F00\", name: \"{tagName}\" }}) {{\n",
    "          ... on CreateLabelSuccess {{\n",
    "            label {{\n",
    "              id\n",
    "              name\n",
    "              color\n",
    "              description\n",
    "              createdAt\n",
    "            }}\n",
    "          }}\n",
    "          ... on CreateLabelError {{\n",
    "            errorCodes\n",
    "          }}\n",
    "        }}\n",
    "      }}\n",
    "      \"\"\"\n",
    "\n",
    "      r = client.execute(gql(mutation), {'name': str(tagName)})\n",
    "      print(r)\n",
    "      return r['createLabel']['label']['id']"
   ]
  },
  {
   "cell_type": "code",
   "execution_count": null,
   "id": "e564d8eb-fd5c-4935-987a-7bc815d2acd1",
   "metadata": {
    "execution": {
     "iopub.execute_input": "2023-06-17T17:47:11.877249Z",
     "iopub.status.busy": "2023-06-17T17:47:11.876608Z",
     "iopub.status.idle": "2023-06-17T17:47:12.671371Z",
     "shell.execute_reply": "2023-06-17T17:47:12.670215Z",
     "shell.execute_reply.started": "2023-06-17T17:47:11.877217Z"
    }
   },
   "outputs": [],
   "source": [
    "server_tags = pd.DataFrame.from_records(getExistingTags())\n",
    "create_tags = {AMBIGUOUS_TAG, TODELETE_TAG} - set(server_tags['name'])\n",
    "for tag in create_tags:\n",
    "    print(tag)\n",
    "    saveTags(tag)\n",
    "    \n",
    "if create_tags:\n",
    "    server_tags = pd.DataFrame.from_records(getExistingTags())\n",
    "\n",
    "server_tags"
   ]
  },
  {
   "cell_type": "code",
   "execution_count": null,
   "id": "c3e9a3f1-2896-43c2-9fe2-f56509dfbb91",
   "metadata": {
    "execution": {
     "iopub.execute_input": "2023-06-17T17:47:12.673483Z",
     "iopub.status.busy": "2023-06-17T17:47:12.673039Z",
     "iopub.status.idle": "2023-06-17T17:47:12.685106Z",
     "shell.execute_reply": "2023-06-17T17:47:12.684245Z",
     "shell.execute_reply.started": "2023-06-17T17:47:12.673438Z"
    }
   },
   "outputs": [],
   "source": [
    "setLabels = gql(\"\"\"\n",
    "mutation SetLabel($articleId: ID!, $labelIds: [ID!]!) { \n",
    "    setLabels(input: {pageId: $articleId, labelIds: $labelIds}) {\n",
    "        ...on SetLabelsSuccess { \n",
    "            labels { \n",
    "                id\n",
    "            }\n",
    "        }\n",
    "    }\n",
    "}\n",
    "\"\"\")\n",
    "\n",
    "@backoff.on_predicate(\n",
    "    backoff.runtime,\n",
    "    predicate=lambda r: isinstance(r, RequestsHTTPTransport),\n",
    "    value=lambda r: int(r.response_headers[\"RateLimit-Reset\"]) + 1,\n",
    "    jitter=None,\n",
    ")\n",
    "def saveLabels(articleId, labels): \n",
    "    with create_client() as client: \n",
    "      try:\n",
    "        return client.execute(setLabels, {'articleId': articleId, 'labelIds': labels})\n",
    "      except Exception as e:\n",
    "          if (hasattr(e, 'code') and e.code == 429): \n",
    "            return session.transport\n",
    "          raise"
   ]
  },
  {
   "cell_type": "markdown",
   "id": "e0ce6437-0981-4628-bd61-210a2e4e5837",
   "metadata": {},
   "source": [
    "## Now tag the articles"
   ]
  },
  {
   "cell_type": "code",
   "execution_count": null,
   "id": "614d8539-f643-444d-a35c-adbc16c67f87",
   "metadata": {
    "execution": {
     "iopub.execute_input": "2023-06-17T17:47:12.686389Z",
     "iopub.status.busy": "2023-06-17T17:47:12.686115Z",
     "iopub.status.idle": "2023-06-17T17:47:49.138007Z",
     "shell.execute_reply": "2023-06-17T17:47:49.136493Z",
     "shell.execute_reply.started": "2023-06-17T17:47:12.686366Z"
    }
   },
   "outputs": [],
   "source": [
    "TODELETE_TAG_ID = server_tags.set_index('name')['id'][TODELETE_TAG]\n",
    "\n",
    "toDeleteCnt = 0\n",
    "for lst in delete.values():\n",
    "    toDeleteCnt += len(lst)\n",
    "    for a in lst:\n",
    "        saveLabels(a.name, TODELETE_TAG_ID)"
   ]
  },
  {
   "cell_type": "markdown",
   "id": "ef6b252c-863c-405e-9c65-8fb79de25185",
   "metadata": {},
   "source": [
    "## Now bulk delete the articles"
   ]
  },
  {
   "cell_type": "code",
   "execution_count": null,
   "id": "f6859bd8-475b-446e-a44f-5dae5218ec28",
   "metadata": {
    "execution": {
     "iopub.execute_input": "2023-06-17T17:47:49.140656Z",
     "iopub.status.busy": "2023-06-17T17:47:49.140223Z",
     "iopub.status.idle": "2023-06-17T17:48:02.556072Z",
     "shell.execute_reply": "2023-06-17T17:48:02.555137Z",
     "shell.execute_reply.started": "2023-06-17T17:47:49.140611Z"
    }
   },
   "outputs": [],
   "source": [
    "bulkDelete = gql(\"\"\"\n",
    "mutation BulkDelete ($expectedCount: Int!, $query: String!) {\n",
    "    bulkAction (action: DELETE, expectedCount: $expectedCount, query: $query) {\n",
    "    ... on BulkActionSuccess {\n",
    "        success\n",
    "    }\n",
    "    ... on BulkActionError {\n",
    "        errorCodes\n",
    "    }\n",
    "    }\n",
    "}\n",
    "\"\"\")\n",
    "\n",
    "input(f\"This will delete {toDeleteCnt} articles, press enter to continue\")\n",
    "\n",
    "with create_client() as c:\n",
    "    r = c.execute(bulkDelete, {\n",
    "        'expectedCount': toDeleteCnt,\n",
    "        'query': f'label:\"{TODELETE_TAG}\"',\n",
    "    })\n",
    "    display(r)"
   ]
  }
 ],
 "metadata": {
  "kernelspec": {
   "display_name": "Python 3 (ipykernel)",
   "language": "python",
   "name": "python3"
  },
  "language_info": {
   "codemirror_mode": {
    "name": "ipython",
    "version": 3
   },
   "file_extension": ".py",
   "mimetype": "text/x-python",
   "name": "python",
   "nbconvert_exporter": "python",
   "pygments_lexer": "ipython3",
   "version": "3.11.3"
  }
 },
 "nbformat": 4,
 "nbformat_minor": 5
}
